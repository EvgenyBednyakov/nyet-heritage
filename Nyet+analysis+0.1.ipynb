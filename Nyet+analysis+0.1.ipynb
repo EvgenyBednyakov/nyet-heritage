{
 "cells": [
  {
   "cell_type": "markdown",
   "metadata": {},
   "source": [
    "# Converting json into dataframe"
   ]
  },
  {
   "cell_type": "code",
   "execution_count": 9,
   "metadata": {},
   "outputs": [
    {
     "name": "stdout",
     "output_type": "stream",
     "text": [
      "{\n",
      "  \"event\": \"message\",\n",
      "  \"id\": \"020000009dd7d000434c0600000000000000000000000000\",\n",
      "  \"service\": false,\n",
      "  \"out\": false,\n",
      "  \"from\": {\n",
      "    \"id\": \"$01000000610c4901c98b7dfcf0c76782\",\n",
      "    \"when\": \"2017-10-06 19:43:20\",\n",
      "    \"peer_type\": \"user\",\n",
      "    \"peer_id\": 21564513,\n",
      "    \"first_name\": \"Милежик\",\n",
      "    \"print_name\": \"Милежик\",\n",
      "    \"flags\": 196609,\n",
      "    \"last_name\": \"\",\n",
      "    \"username\": \"Dee_Milezhik\",\n",
      "    \"phone\": \"79637685254\"\n",
      "  },\n",
      "  \"text\": \"Кек\",\n",
      "  \"flags\": 256,\n",
      "  \"to\": {\n",
      "    \"members_num\": 15,\n",
      "    \"id\": \"$020000009dd7d0000000000000000000\",\n",
      "    \"admin\": {\n",
      "      \"id\": \"$01000000000000000000000000000000\",\n",
      "      \"peer_type\": \"user\",\n",
      "      \"peer_id\": 0,\n",
      "      \"print_name\": \"user#0\"\n",
      "    },\n",
      "    \"peer_type\": \"chat\",\n",
      "    \"peer_id\": 13686685,\n",
      "    \"print_name\": \"NYET:_Фэтблэймеры,_фэтхэйтеры,_флеймбластеры_и_Димка\",\n",
      "    \"flags\": 1,\n",
      "    \"title\": \"NYET: Фэтблэймеры, фэтхэйтеры, флеймбластеры и Димка\"\n",
      "  },\n",
      "  \"unread\": false,\n",
      "  \"date\": 1507307026\n",
      "}\n"
     ]
    }
   ],
   "source": [
    "%%bash\n",
    "head -n37 NYET_format.jsonl"
   ]
  },
  {
   "cell_type": "code",
   "execution_count": 58,
   "metadata": {},
   "outputs": [],
   "source": [
    "%%bash\n",
    "cp NYET.jsonl NYET_tests.jsonl\n",
    "sed -i '1s/^/[ /' ~/NYET_tests.jsonl\n",
    "sed 's/$/ | ,/'  ~/NYET_tests.jsonl\n",
    "sed '$ s/.$//'  ~/NYET_tests.jsonl\n",
    "echo \"]\" >> NYET_tests.jsonl "
   ]
  },
  {
   "cell_type": "code",
   "execution_count": 69,
   "metadata": {
    "collapsed": true
   },
   "outputs": [],
   "source": [
    "import ijson\n",
    "import json\n",
    "\n",
    "filename = \"NYET_tests.jsonl\"\n",
    "filename2 = \"NYET.jsonl\"\n",
    "\n",
    "cols = ['event',\n",
    "        'service',\n",
    "        'out',\n",
    "        'from.peer_type',\n",
    "        'from.peer_id',\n",
    "        'from.first_name',\n",
    "        'from.print_name',\n",
    "        'from.last_name',\n",
    "        'from.username',\n",
    "        'from.phone',\n",
    "        'text',\n",
    "        'date']\n",
    "\n",
    "data =[]"
   ]
  },
  {
   "cell_type": "code",
   "execution_count": 66,
   "metadata": {},
   "outputs": [
    {
     "name": "stdout",
     "output_type": "stream",
     "text": [
      "{'service': False, 'event': 'message', 'to': {'peer_type': 'chat', 'peer_id': 13686685, 'admin': {'print_name': 'user#0', 'peer_type': 'user', 'peer_id': 0, 'id': '$01000000000000000000000000000000'}, 'flags': 1, 'print_name': 'NYET:_Фэтблэймеры,_фэтхэйтеры,_флеймбластеры_и_Димка', 'id': '$020000009dd7d0000000000000000000', 'title': 'NYET: Фэтблэймеры, фэтхэйтеры, флеймбластеры и Димка', 'members_num': 15}, 'text': 'Может так случиться, что и я', 'flags': 256, 'from': {'when': '2017-10-06 19:43:20', 'peer_id': 21564513, 'username': 'Dee_Milezhik', 'last_name': '', 'phone': '79637685254', 'peer_type': 'user', 'print_name': 'Милежик', 'id': '$01000000610c4901c98b7dfcf0c76782', 'flags': 196609, 'first_name': 'Милежик'}, 'out': False, 'id': '020000009dd7d000424c0600000000000000000000000000', 'unread': False, 'date': 1507307025}\n"
     ]
    },
    {
     "ename": "JSONError",
     "evalue": "Additional data",
     "output_type": "error",
     "traceback": [
      "\u001b[0;31m---------------------------------------------------------------------------\u001b[0m",
      "\u001b[0;31mJSONError\u001b[0m                                 Traceback (most recent call last)",
      "\u001b[0;32m<ipython-input-66-8916d16a56ad>\u001b[0m in \u001b[0;36m<module>\u001b[0;34m()\u001b[0m\n\u001b[1;32m      3\u001b[0m     \u001b[0;32mfor\u001b[0m \u001b[0mline\u001b[0m \u001b[0;32min\u001b[0m \u001b[0mf\u001b[0m\u001b[0;34m:\u001b[0m\u001b[0;34m\u001b[0m\u001b[0m\n\u001b[1;32m      4\u001b[0m         \u001b[0mobjects\u001b[0m  \u001b[0;34m=\u001b[0m \u001b[0mijson\u001b[0m\u001b[0;34m.\u001b[0m\u001b[0mitems\u001b[0m\u001b[0;34m(\u001b[0m\u001b[0mf\u001b[0m\u001b[0;34m,\u001b[0m\u001b[0;34m''\u001b[0m\u001b[0;34m)\u001b[0m\u001b[0;34m\u001b[0m\u001b[0m\n\u001b[0;32m----> 5\u001b[0;31m         \u001b[0;32mfor\u001b[0m \u001b[0mmessage\u001b[0m \u001b[0;32min\u001b[0m \u001b[0mobjects\u001b[0m\u001b[0;34m:\u001b[0m\u001b[0;34m\u001b[0m\u001b[0m\n\u001b[0m\u001b[1;32m      6\u001b[0m             \u001b[0mprint\u001b[0m\u001b[0;34m(\u001b[0m\u001b[0mmessage\u001b[0m\u001b[0;34m)\u001b[0m\u001b[0;34m\u001b[0m\u001b[0m\n\u001b[1;32m      7\u001b[0m         \u001b[0ma\u001b[0m \u001b[0;34m+=\u001b[0m \u001b[0;36m1\u001b[0m\u001b[0;34m\u001b[0m\u001b[0m\n",
      "\u001b[0;32m~/anaconda3/lib/python3.5/site-packages/ijson/common.py\u001b[0m in \u001b[0;36mitems\u001b[0;34m(prefixed_events, prefix)\u001b[0m\n\u001b[1;32m    136\u001b[0m     \u001b[0;32mtry\u001b[0m\u001b[0;34m:\u001b[0m\u001b[0;34m\u001b[0m\u001b[0m\n\u001b[1;32m    137\u001b[0m         \u001b[0;32mwhile\u001b[0m \u001b[0;32mTrue\u001b[0m\u001b[0;34m:\u001b[0m\u001b[0;34m\u001b[0m\u001b[0m\n\u001b[0;32m--> 138\u001b[0;31m             \u001b[0mcurrent\u001b[0m\u001b[0;34m,\u001b[0m \u001b[0mevent\u001b[0m\u001b[0;34m,\u001b[0m \u001b[0mvalue\u001b[0m \u001b[0;34m=\u001b[0m \u001b[0mnext\u001b[0m\u001b[0;34m(\u001b[0m\u001b[0mprefixed_events\u001b[0m\u001b[0;34m)\u001b[0m\u001b[0;34m\u001b[0m\u001b[0m\n\u001b[0m\u001b[1;32m    139\u001b[0m             \u001b[0;32mif\u001b[0m \u001b[0mcurrent\u001b[0m \u001b[0;34m==\u001b[0m \u001b[0mprefix\u001b[0m\u001b[0;34m:\u001b[0m\u001b[0;34m\u001b[0m\u001b[0m\n\u001b[1;32m    140\u001b[0m                 \u001b[0;32mif\u001b[0m \u001b[0mevent\u001b[0m \u001b[0;32min\u001b[0m \u001b[0;34m(\u001b[0m\u001b[0;34m'start_map'\u001b[0m\u001b[0;34m,\u001b[0m \u001b[0;34m'start_array'\u001b[0m\u001b[0;34m)\u001b[0m\u001b[0;34m:\u001b[0m\u001b[0;34m\u001b[0m\u001b[0m\n",
      "\u001b[0;32m~/anaconda3/lib/python3.5/site-packages/ijson/common.py\u001b[0m in \u001b[0;36mparse\u001b[0;34m(basic_events)\u001b[0m\n\u001b[1;32m     63\u001b[0m     '''\n\u001b[1;32m     64\u001b[0m     \u001b[0mpath\u001b[0m \u001b[0;34m=\u001b[0m \u001b[0;34m[\u001b[0m\u001b[0;34m]\u001b[0m\u001b[0;34m\u001b[0m\u001b[0m\n\u001b[0;32m---> 65\u001b[0;31m     \u001b[0;32mfor\u001b[0m \u001b[0mevent\u001b[0m\u001b[0;34m,\u001b[0m \u001b[0mvalue\u001b[0m \u001b[0;32min\u001b[0m \u001b[0mbasic_events\u001b[0m\u001b[0;34m:\u001b[0m\u001b[0;34m\u001b[0m\u001b[0m\n\u001b[0m\u001b[1;32m     66\u001b[0m         \u001b[0;32mif\u001b[0m \u001b[0mevent\u001b[0m \u001b[0;34m==\u001b[0m \u001b[0;34m'map_key'\u001b[0m\u001b[0;34m:\u001b[0m\u001b[0;34m\u001b[0m\u001b[0m\n\u001b[1;32m     67\u001b[0m             \u001b[0mprefix\u001b[0m \u001b[0;34m=\u001b[0m \u001b[0;34m'.'\u001b[0m\u001b[0;34m.\u001b[0m\u001b[0mjoin\u001b[0m\u001b[0;34m(\u001b[0m\u001b[0mpath\u001b[0m\u001b[0;34m[\u001b[0m\u001b[0;34m:\u001b[0m\u001b[0;34m-\u001b[0m\u001b[0;36m1\u001b[0m\u001b[0;34m]\u001b[0m\u001b[0;34m)\u001b[0m\u001b[0;34m\u001b[0m\u001b[0m\n",
      "\u001b[0;32m~/anaconda3/lib/python3.5/site-packages/ijson/backends/python.py\u001b[0m in \u001b[0;36mbasic_parse\u001b[0;34m(file, buf_size)\u001b[0m\n\u001b[1;32m    190\u001b[0m         \u001b[0;32mpass\u001b[0m\u001b[0;34m\u001b[0m\u001b[0m\n\u001b[1;32m    191\u001b[0m     \u001b[0;32melse\u001b[0m\u001b[0;34m:\u001b[0m\u001b[0;34m\u001b[0m\u001b[0m\n\u001b[0;32m--> 192\u001b[0;31m         \u001b[0;32mraise\u001b[0m \u001b[0mcommon\u001b[0m\u001b[0;34m.\u001b[0m\u001b[0mJSONError\u001b[0m\u001b[0;34m(\u001b[0m\u001b[0;34m'Additional data'\u001b[0m\u001b[0;34m)\u001b[0m\u001b[0;34m\u001b[0m\u001b[0m\n\u001b[0m\u001b[1;32m    193\u001b[0m \u001b[0;34m\u001b[0m\u001b[0m\n\u001b[1;32m    194\u001b[0m \u001b[0;34m\u001b[0m\u001b[0m\n",
      "\u001b[0;31mJSONError\u001b[0m: Additional data"
     ]
    }
   ],
   "source": [
    "with open(filename,'r') as f:\n",
    "   #  a = 1\n",
    "    for line in f:\n",
    "        objects  = ijson.items(f,'')\n",
    "        for message in objects:\n",
    "            print(message)\n",
    "        a += 1\n",
    "        if a >= 10:\n",
    "            break\n",
    "#    for row in objects:\n",
    "#        current_row = []\n",
    "#        for items in cols:\n",
    "#            current_row.append(row[cols.index(item)])\n",
    " #       data.append(current_row)"
   ]
  },
  {
   "cell_type": "code",
   "execution_count": 77,
   "metadata": {},
   "outputs": [
    {
     "name": "stdout",
     "output_type": "stream",
     "text": [
      "$01000000610c4901c98b7dfcf0c76782\n",
      "$01000000610c4901c98b7dfcf0c76782\n",
      "$01000000610c4901c98b7dfcf0c76782\n",
      "$01000000610c4901c98b7dfcf0c76782\n",
      "$01000000610c4901c98b7dfcf0c76782\n",
      "$01000000f0813807082b0172d79c63cc\n",
      "$01000000610c4901c98b7dfcf0c76782\n",
      "$01000000610c4901c98b7dfcf0c76782\n",
      "$01000000bb10620570afa3c8d8633a04\n",
      "$01000000bb10620570afa3c8d8633a04\n",
      "$01000000a69a1604ee4acba741a2e69e\n",
      "$01000000bb10620570afa3c8d8633a04\n",
      "$01000000bb10620570afa3c8d8633a04\n",
      "$0100000075eab404caf59352f6f295fe\n",
      "$01000000bb10620570afa3c8d8633a04\n",
      "$0100000075eab404caf59352f6f295fe\n",
      "$01000000bb10620570afa3c8d8633a04\n",
      "$01000000bb10620570afa3c8d8633a04\n",
      "$01000000bb10620570afa3c8d8633a04\n",
      "$0100000075eab404caf59352f6f295fe\n",
      "$01000000bb10620570afa3c8d8633a04\n",
      "$0100000042e8c60694155eb5435c7b6f\n",
      "$01000000610c4901c98b7dfcf0c76782\n",
      "$01000000610c4901c98b7dfcf0c76782\n",
      "$01000000610c4901c98b7dfcf0c76782\n",
      "$01000000610c4901c98b7dfcf0c76782\n",
      "$0100000075eab404caf59352f6f295fe\n",
      "$0100000075eab404caf59352f6f295fe\n",
      "$01000000727e740469c9ab4c2ca5505e\n",
      "$01000000727e740469c9ab4c2ca5505e\n"
     ]
    }
   ],
   "source": [
    "with open(filename2,'r') as f:\n",
    "    a = 0\n",
    "    for line in f:\n",
    "        message = json.loads(line)\n",
    "        print(message['from']['id'])\n",
    "        a += 1\n",
    "        if a >= 30:\n",
    "            break\n",
    "        "
   ]
  }
 ],
 "metadata": {
  "kernelspec": {
   "display_name": "Python [conda root]",
   "language": "python",
   "name": "conda-root-py"
  },
  "language_info": {
   "codemirror_mode": {
    "name": "ipython",
    "version": 3
   },
   "file_extension": ".py",
   "mimetype": "text/x-python",
   "name": "python",
   "nbconvert_exporter": "python",
   "pygments_lexer": "ipython3",
   "version": "3.5.3"
  }
 },
 "nbformat": 4,
 "nbformat_minor": 2
}
